{
 "cells": [
  {
   "cell_type": "code",
   "execution_count": 1,
   "id": "5cbbd0fe",
   "metadata": {},
   "outputs": [
    {
     "name": "stderr",
     "output_type": "stream",
     "text": [
      "Found cached dataset race (/home/jclian91/.cache/huggingface/datasets/race/middle/0.1.0/5839ff74a429622f5f20cca69c5fcf0e87ac6d5fd2777c42b948000684829f7b)\n"
     ]
    },
    {
     "data": {
      "application/json": {
       "ascii": false,
       "bar_format": null,
       "colour": null,
       "elapsed": 0.006959199905395508,
       "initial": 0,
       "n": 0,
       "ncols": null,
       "nrows": 21,
       "postfix": null,
       "prefix": "",
       "rate": null,
       "total": 3,
       "unit": "it",
       "unit_divisor": 1000,
       "unit_scale": false
      },
      "application/vnd.jupyter.widget-view+json": {
       "model_id": "",
       "version_major": 2,
       "version_minor": 0
      },
      "text/plain": [
       "  0%|          | 0/3 [00:00<?, ?it/s]"
      ]
     },
     "metadata": {},
     "output_type": "display_data"
    }
   ],
   "source": [
    "from datasets import load_dataset\n",
    "\n",
    "raw_ds = load_dataset(\"race\", \"middle\")"
   ]
  },
  {
   "cell_type": "code",
   "execution_count": 2,
   "id": "9fb984f8",
   "metadata": {},
   "outputs": [
    {
     "data": {
      "text/plain": [
       "DatasetDict({\n",
       "    test: Dataset({\n",
       "        features: ['example_id', 'article', 'answer', 'question', 'options'],\n",
       "        num_rows: 1436\n",
       "    })\n",
       "    train: Dataset({\n",
       "        features: ['example_id', 'article', 'answer', 'question', 'options'],\n",
       "        num_rows: 25421\n",
       "    })\n",
       "    validation: Dataset({\n",
       "        features: ['example_id', 'article', 'answer', 'question', 'options'],\n",
       "        num_rows: 1436\n",
       "    })\n",
       "})"
      ]
     },
     "execution_count": 2,
     "metadata": {},
     "output_type": "execute_result"
    }
   ],
   "source": [
    "raw_ds"
   ]
  },
  {
   "cell_type": "code",
   "execution_count": 3,
   "id": "8bc30918",
   "metadata": {},
   "outputs": [
    {
     "data": {
      "text/plain": [
       "{'example_id': 'middle4558.txt',\n",
       " 'article': '\"I planted a seed. Finally grow fruits. Today is a great day. Pick off the star for you. Pick off the moon for you. Let it rise for you every day. Become candles burning myself. Just light you up, hey!... You are my little little apple. How much I love you, still no enough.\"\\nThis words are from the popular song You Are My Little Dear Apple. Bae Seul-Ki acted as the leading dancer in the MV of the song. She loves dancing. She became crazy about hip-hop when she was a school girl.\\nBai Seul-Ki was born on September 27, 1986. She is a South Korean singer and dancer. She is 168cm tall. She loves cooking. Her favourite food is spicy and salty. She like pink and red most. There are five members in her family---father, mother, two younger brothers and herself. She isn\\'t married.\\nAfter her father and mother broke up, she lived with her mother and new daddy. She enjoys being alone.',\n",
       " 'answer': 'B',\n",
       " 'question': 'Bae Seul-Ki   _   in the MV of the song according to the passage.',\n",
       " 'options': ['sang', 'danced', 'cried', 'laughed']}"
      ]
     },
     "execution_count": 3,
     "metadata": {},
     "output_type": "execute_result"
    }
   ],
   "source": [
    "raw_ds[\"train\"][0]"
   ]
  },
  {
   "cell_type": "code",
   "execution_count": 4,
   "id": "4d676376",
   "metadata": {},
   "outputs": [
    {
     "data": {
      "text/plain": [
       "25421"
      ]
     },
     "execution_count": 4,
     "metadata": {},
     "output_type": "execute_result"
    }
   ],
   "source": [
    "len(raw_ds[\"train\"])"
   ]
  },
  {
   "cell_type": "code",
   "execution_count": 5,
   "id": "90ffba7a",
   "metadata": {},
   "outputs": [],
   "source": [
    "train_ds = raw_ds[\"train\"]\n",
    "test_ds = raw_ds[\"test\"]"
   ]
  },
  {
   "cell_type": "code",
   "execution_count": 6,
   "id": "3c3257fd",
   "metadata": {},
   "outputs": [
    {
     "name": "stdout",
     "output_type": "stream",
     "text": [
      "Read the following passage and questions, then choose the right answer from options, the answer should be one of A, B, C, D.\n",
      "\n",
      "<passage>:\n",
      "\"I planted a seed. Finally grow fruits. Today is a great day. Pick off the star for you. Pick off the moon for you. Let it rise for you every day. Become candles burning myself. Just light you up, hey!... You are my little little apple. How much I love you, still no enough.\"\n",
      "This words are from the popular song You Are My Little Dear Apple. Bae Seul-Ki acted as the leading dancer in the MV of the song. She loves dancing. She became crazy about hip-hop when she was a school girl.\n",
      "Bai Seul-Ki was born on September 27, 1986. She is a South Korean singer and dancer. She is 168cm tall. She loves cooking. Her favourite food is spicy and salty. She like pink and red most. There are five members in her family---father, mother, two younger brothers and herself. She isn't married.\n",
      "After her father and mother broke up, she lived with her mother and new daddy. She enjoys being alone.\n",
      "\n",
      "<question>:\n",
      "Bae Seul-Ki   _   in the MV of the song according to the passage.\n",
      "\n",
      "<options>:\n",
      "A sang\n",
      "B danced\n",
      "C cried\n",
      "D laughed\n",
      "\n",
      "<answer>:\n",
      "\n"
     ]
    }
   ],
   "source": [
    "for i in range(1):\n",
    "    sample = train_ds[i]\n",
    "    passage, answer, q, options = sample['article'], sample['answer'], sample['question'], sample['options']\n",
    "    prefix = 'Read the following passage and questions, then choose the right answer from options, the answer should be one of A, B, C, D.\\n\\n'\n",
    "    passage = f'<passage>:\\n{passage}\\n\\n'\n",
    "    question = f'<question>:\\n{q}\\n\\n'\n",
    "    option = f'<options>:\\nA {options[0]}\\nB {options[1]}\\nC {options[2]}\\nD {options[3]}\\n\\n'\n",
    "    suffix = f\"<answer>:\\n\"\n",
    "    prompt = ''.join([prefix, passage, question, option, suffix])\n",
    "    print(prompt)"
   ]
  },
  {
   "cell_type": "code",
   "execution_count": 7,
   "id": "88b863c6",
   "metadata": {},
   "outputs": [],
   "source": [
    "import jsonlines\n",
    "\n",
    "for i in range(len(train_ds)):\n",
    "    sample = train_ds[i]\n",
    "    passage, answer, q, options = sample['article'], sample['answer'], sample['question'], sample['options']\n",
    "    prefix = 'Read the following passage and questions, then choose the right answer from options, the answer should be one of A, B, C, D.\\n\\n'\n",
    "    passage = f'<passage>:\\n{passage}\\n\\n'\n",
    "    question = f'<question>:\\n{q}\\n\\n'\n",
    "    option = f'<options>:\\nA {options[0]}\\nB {options[1]}\\nC {options[2]}\\nD {options[3]}\\n\\n'\n",
    "    suffix = f\"<answer>:\\n\"\n",
    "    prompt = ''.join([prefix, passage, question, option, suffix])\n",
    "    # print(prompt)\n",
    "\n",
    "    message = {\"conversation_id\": i+1,\n",
    "               \"category\": \"race_middle\",\n",
    "               \"conversation\": [\n",
    "                    {\n",
    "                        \"human\": prompt,\n",
    "                        \"assistant\": answer\n",
    "                    }]\n",
    "               }\n",
    "    with jsonlines.open(\"race_train.jsonl\", 'a') as w:\n",
    "        w.write(message)"
   ]
  },
  {
   "cell_type": "code",
   "execution_count": null,
   "id": "0cd7f40b",
   "metadata": {},
   "outputs": [],
   "source": []
  }
 ],
 "metadata": {
  "kernelspec": {
   "display_name": "Python 3 (ipykernel)",
   "language": "python",
   "name": "python3"
  },
  "language_info": {
   "codemirror_mode": {
    "name": "ipython",
    "version": 3
   },
   "file_extension": ".py",
   "mimetype": "text/x-python",
   "name": "python",
   "nbconvert_exporter": "python",
   "pygments_lexer": "ipython3",
   "version": "3.10.11"
  }
 },
 "nbformat": 4,
 "nbformat_minor": 5
}
